{
 "cells": [
  {
   "cell_type": "code",
   "execution_count": 16,
   "metadata": {},
   "outputs": [],
   "source": [
    "from math import sqrt, log"
   ]
  },
  {
   "cell_type": "code",
   "execution_count": 17,
   "metadata": {},
   "outputs": [],
   "source": [
    "def is_prime(N: int) -> bool:\n",
    "    if N < 2: return False\n",
    "    for i in range(2, int(sqrt(N)) + 1):\n",
    "        if N % i == 0: return False\n",
    "    return True"
   ]
  },
  {
   "cell_type": "code",
   "execution_count": 18,
   "metadata": {},
   "outputs": [],
   "source": [
    "def print_primes(a: int, b: int) -> None:\n",
    "    primes = [x for x in range(a, b + 1) if is_prime(x)]\n",
    "    print(', '.join(map(str, primes)))\n",
    "    print(f'\\nКоличество простых чисел в интервале {a, b} равно {len(primes)}')"
   ]
  },
  {
   "cell_type": "code",
   "execution_count": 19,
   "metadata": {},
   "outputs": [
    {
     "name": "stdout",
     "output_type": "stream",
     "text": [
      "2, 3, 5, 7, 11, 13, 17, 19, 23, 29, 31, 37, 41, 43, 47, 53, 59, 61, 67, 71, 73, 79, 83, 89, 97, 101, 103, 107, 109, 113, 127, 131, 137, 139, 149, 151, 157, 163, 167, 173, 179, 181, 191, 193, 197, 199, 211, 223, 227, 229, 233, 239, 241, 251, 257, 263, 269, 271, 277, 281, 283, 293, 307, 311, 313, 317, 331, 337, 347, 349, 353, 359, 367, 373, 379, 383, 389, 397, 401, 409, 419, 421, 431\n",
      "\n",
      "Количество простых чисел в интервале (2, 431) равно 83\n"
     ]
    }
   ],
   "source": [
    "n = 431\n",
    "m = 471\n",
    "print_primes(2, n)"
   ]
  },
  {
   "cell_type": "code",
   "execution_count": 20,
   "metadata": {},
   "outputs": [
    {
     "name": "stdout",
     "output_type": "stream",
     "text": [
      "n/ln(n) = 71.050\n",
      "\n",
      "\n",
      "\n",
      "Количество простых чисел в интервале (471, 431) равно 0\n"
     ]
    }
   ],
   "source": [
    "print(f'n/ln(n) = {n/log(n):.3f}\\n')\n",
    "print_primes(m, n)"
   ]
  },
  {
   "cell_type": "code",
   "execution_count": 3,
   "metadata": {},
   "outputs": [],
   "source": [
    "def Euclid(a: int, b: int) -> int:\n",
    "    while b != 0:\n",
    "        a, b = b, a % b\n",
    "    return a\n"
   ]
  },
  {
   "cell_type": "code",
   "execution_count": 4,
   "metadata": {},
   "outputs": [
    {
     "name": "stdout",
     "output_type": "stream",
     "text": [
      "НОД (1178, 31) = 31\n"
     ]
    }
   ],
   "source": [
    "a = 1178\n",
    "b = 31\n",
    "print(f'НОД {a, b} = {Euclid(a, b)}')"
   ]
  }
 ],
 "metadata": {
  "kernelspec": {
   "display_name": "Python 3",
   "language": "python",
   "name": "python3"
  },
  "language_info": {
   "codemirror_mode": {
    "name": "ipython",
    "version": 3
   },
   "file_extension": ".py",
   "mimetype": "text/x-python",
   "name": "python",
   "nbconvert_exporter": "python",
   "pygments_lexer": "ipython3",
   "version": "3.10.0"
  }
 },
 "nbformat": 4,
 "nbformat_minor": 2
}
