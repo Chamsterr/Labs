{
 "cells": [
  {
   "cell_type": "code",
   "execution_count": 8,
   "metadata": {},
   "outputs": [
    {
     "name": "stdout",
     "output_type": "stream",
     "text": [
      "Encryption time: 0.0 seconds\n",
      "Cipher text: b\"\\xd3\\xa6\\n\\xdf.~\\x87V\\t[-\\xe97\\x90:\\x95\\xbf\\xe7'w\\x07\\xc3&\\xaf\"\n",
      "Decryption time: 0.0 seconds\n",
      "Plain text: This is a test message.\n"
     ]
    }
   ],
   "source": [
    "from Crypto.Cipher import DES\n",
    "from Crypto.Util.Padding import pad, unpad\n",
    "from time import time\n",
    "\n",
    "key = \"GlavnyiKo\".encode()\n",
    "\n",
    "def des_encrypt_decrypt(message, key, mode='encrypt'):\n",
    "    cipher = DES.new(key, DES.MODE_ECB)\n",
    "    if mode == 'encrypt':\n",
    "        start_time = time()\n",
    "        ct_bytes = cipher.encrypt(pad(message.encode(), DES.block_size))\n",
    "        end_time = time()\n",
    "        print(f\"Encryption time: {end_time - start_time} seconds\")\n",
    "        return ct_bytes\n",
    "    elif mode == 'decrypt':\n",
    "        start_time = time()\n",
    "        pt = unpad(cipher.decrypt(message), DES.block_size).decode()\n",
    "        end_time = time()\n",
    "        print(f\"Decryption time: {end_time - start_time} seconds\")\n",
    "        return pt\n",
    "\n",
    "\n",
    "message = \"This is a test message.\"\n",
    "cipher_text = des_encrypt_decrypt(message, key, 'encrypt')\n",
    "print(\"Cipher text:\", cipher_text)\n",
    "plain_text = des_encrypt_decrypt(cipher_text, key, 'decrypt')\n",
    "print(\"Plain text:\", plain_text)\n"
   ]
  },
  {
   "cell_type": "code",
   "execution_count": null,
   "metadata": {},
   "outputs": [],
   "source": []
  },
  {
   "cell_type": "code",
   "execution_count": null,
   "metadata": {},
   "outputs": [],
   "source": []
  }
 ],
 "metadata": {
  "kernelspec": {
   "display_name": "Python 3",
   "language": "python",
   "name": "python3"
  },
  "language_info": {
   "codemirror_mode": {
    "name": "ipython",
    "version": 3
   },
   "file_extension": ".py",
   "mimetype": "text/x-python",
   "name": "python",
   "nbconvert_exporter": "python",
   "pygments_lexer": "ipython3",
   "version": "3.10.0"
  }
 },
 "nbformat": 4,
 "nbformat_minor": 2
}
