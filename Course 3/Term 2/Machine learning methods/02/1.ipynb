{
 "cells": [
  {
   "cell_type": "code",
   "execution_count": 144,
   "metadata": {},
   "outputs": [],
   "source": [
    "import pandas as pd\n",
    "import numpy as np\n",
    "import seaborn as sns\n",
    "import matplotlib.pyplot as plt\n",
    "import matplotlib.mlab as mlab"
   ]
  },
  {
   "cell_type": "code",
   "execution_count": 145,
   "metadata": {},
   "outputs": [],
   "source": [
    "smartwatches = pd.read_csv(\"smartwatches.csv\")"
   ]
  },
  {
   "cell_type": "code",
   "execution_count": 146,
   "metadata": {},
   "outputs": [
    {
     "data": {
      "text/html": [
       "<div>\n",
       "<style scoped>\n",
       "    .dataframe tbody tr th:only-of-type {\n",
       "        vertical-align: middle;\n",
       "    }\n",
       "\n",
       "    .dataframe tbody tr th {\n",
       "        vertical-align: top;\n",
       "    }\n",
       "\n",
       "    .dataframe thead th {\n",
       "        text-align: right;\n",
       "    }\n",
       "</style>\n",
       "<table border=\"1\" class=\"dataframe\">\n",
       "  <thead>\n",
       "    <tr style=\"text-align: right;\">\n",
       "      <th></th>\n",
       "      <th>Unnamed: 0</th>\n",
       "      <th>Brand</th>\n",
       "      <th>Current Price</th>\n",
       "      <th>Original Price</th>\n",
       "      <th>Discount Percentage</th>\n",
       "      <th>Rating</th>\n",
       "      <th>Number OF Ratings</th>\n",
       "      <th>Model Name</th>\n",
       "      <th>Dial Shape</th>\n",
       "      <th>Strap Color</th>\n",
       "      <th>Strap Material</th>\n",
       "      <th>Touchscreen</th>\n",
       "      <th>Battery Life (Days)</th>\n",
       "      <th>Bluetooth</th>\n",
       "      <th>Display Size</th>\n",
       "      <th>Weight</th>\n",
       "    </tr>\n",
       "  </thead>\n",
       "  <tbody>\n",
       "    <tr>\n",
       "      <th>0</th>\n",
       "      <td>0</td>\n",
       "      <td>noise</td>\n",
       "      <td>82990.0</td>\n",
       "      <td>89900.0</td>\n",
       "      <td>7.686318</td>\n",
       "      <td>4.0</td>\n",
       "      <td>65.0</td>\n",
       "      <td>Wrb-sw-colorfitpro4alpha-std-rgld_pnk</td>\n",
       "      <td>NaN</td>\n",
       "      <td>NaN</td>\n",
       "      <td>NaN</td>\n",
       "      <td>NaN</td>\n",
       "      <td>8.0</td>\n",
       "      <td>Yes</td>\n",
       "      <td>NaN</td>\n",
       "      <td>35 - 50 g</td>\n",
       "    </tr>\n",
       "    <tr>\n",
       "      <th>1</th>\n",
       "      <td>1</td>\n",
       "      <td>fire-boltt</td>\n",
       "      <td>3799.0</td>\n",
       "      <td>16999.0</td>\n",
       "      <td>77.651627</td>\n",
       "      <td>4.3</td>\n",
       "      <td>20788.0</td>\n",
       "      <td>BSW046</td>\n",
       "      <td>NaN</td>\n",
       "      <td>NaN</td>\n",
       "      <td>Silicon</td>\n",
       "      <td>Yes</td>\n",
       "      <td>3.5</td>\n",
       "      <td>Yes</td>\n",
       "      <td>1.8 inches</td>\n",
       "      <td>50 - 75 g</td>\n",
       "    </tr>\n",
       "    <tr>\n",
       "      <th>2</th>\n",
       "      <td>2</td>\n",
       "      <td>boat</td>\n",
       "      <td>1999.0</td>\n",
       "      <td>7990.0</td>\n",
       "      <td>74.981227</td>\n",
       "      <td>3.8</td>\n",
       "      <td>21724.0</td>\n",
       "      <td>Wave Call</td>\n",
       "      <td>NaN</td>\n",
       "      <td>NaN</td>\n",
       "      <td>Silicon</td>\n",
       "      <td>Yes</td>\n",
       "      <td>8.0</td>\n",
       "      <td>Yes</td>\n",
       "      <td>1.7 inches</td>\n",
       "      <td>35 - 50 g</td>\n",
       "    </tr>\n",
       "    <tr>\n",
       "      <th>3</th>\n",
       "      <td>3</td>\n",
       "      <td>fire-boltt</td>\n",
       "      <td>1799.0</td>\n",
       "      <td>19999.0</td>\n",
       "      <td>91.004550</td>\n",
       "      <td>4.3</td>\n",
       "      <td>13244.0</td>\n",
       "      <td>BSW053</td>\n",
       "      <td>NaN</td>\n",
       "      <td>NaN</td>\n",
       "      <td>Silicon</td>\n",
       "      <td>Yes</td>\n",
       "      <td>3.5</td>\n",
       "      <td>Yes</td>\n",
       "      <td>1.8 inches</td>\n",
       "      <td>75g +</td>\n",
       "    </tr>\n",
       "    <tr>\n",
       "      <th>4</th>\n",
       "      <td>4</td>\n",
       "      <td>noise</td>\n",
       "      <td>1599.0</td>\n",
       "      <td>4999.0</td>\n",
       "      <td>68.013603</td>\n",
       "      <td>4.1</td>\n",
       "      <td>13901.0</td>\n",
       "      <td>Wrb-sw-colorfitpulsegobuzz-std-blk_blk</td>\n",
       "      <td>NaN</td>\n",
       "      <td>NaN</td>\n",
       "      <td>Other</td>\n",
       "      <td>Yes</td>\n",
       "      <td>8.0</td>\n",
       "      <td>Yes</td>\n",
       "      <td>1.7 inches</td>\n",
       "      <td>35 - 50 g</td>\n",
       "    </tr>\n",
       "  </tbody>\n",
       "</table>\n",
       "</div>"
      ],
      "text/plain": [
       "   Unnamed: 0       Brand  Current Price  Original Price  Discount Percentage  \\\n",
       "0           0       noise        82990.0         89900.0             7.686318   \n",
       "1           1  fire-boltt         3799.0         16999.0            77.651627   \n",
       "2           2        boat         1999.0          7990.0            74.981227   \n",
       "3           3  fire-boltt         1799.0         19999.0            91.004550   \n",
       "4           4       noise         1599.0          4999.0            68.013603   \n",
       "\n",
       "   Rating  Number OF Ratings                              Model Name  \\\n",
       "0     4.0               65.0   Wrb-sw-colorfitpro4alpha-std-rgld_pnk   \n",
       "1     4.3            20788.0                                  BSW046   \n",
       "2     3.8            21724.0                               Wave Call   \n",
       "3     4.3            13244.0                                  BSW053   \n",
       "4     4.1            13901.0  Wrb-sw-colorfitpulsegobuzz-std-blk_blk   \n",
       "\n",
       "  Dial Shape Strap Color Strap Material Touchscreen  Battery Life (Days)  \\\n",
       "0        NaN         NaN            NaN         NaN                  8.0   \n",
       "1        NaN         NaN        Silicon         Yes                  3.5   \n",
       "2        NaN         NaN        Silicon         Yes                  8.0   \n",
       "3        NaN         NaN        Silicon         Yes                  3.5   \n",
       "4        NaN         NaN          Other         Yes                  8.0   \n",
       "\n",
       "  Bluetooth Display Size     Weight  \n",
       "0       Yes          NaN  35 - 50 g  \n",
       "1       Yes   1.8 inches  50 - 75 g  \n",
       "2       Yes   1.7 inches  35 - 50 g  \n",
       "3       Yes   1.8 inches      75g +  \n",
       "4       Yes   1.7 inches  35 - 50 g  "
      ]
     },
     "execution_count": 146,
     "metadata": {},
     "output_type": "execute_result"
    }
   ],
   "source": [
    "smartwatches.head()\n"
   ]
  },
  {
   "cell_type": "markdown",
   "metadata": {},
   "source": [
    "#Обнаружение пропусков\n",
    "Рассмотрим несколько способов\n",
    "1. Визуализация пропущеных данных с помощью тепловой карты"
   ]
  },
  {
   "cell_type": "code",
   "execution_count": 147,
   "metadata": {},
   "outputs": [
    {
     "data": {
      "text/plain": [
       "<AxesSubplot:>"
      ]
     },
     "execution_count": 147,
     "metadata": {},
     "output_type": "execute_result"
    },
    {
     "data": {
      "image/png": "[encoded data removed]",
      "text/plain": [
       "<Figure size 640x480 with 2 Axes>"
      ]
     },
     "metadata": {},
     "output_type": "display_data"
    }
   ],
   "source": [
    "cols = smartwatches.columns[:] \n",
    "# определяем цвета \n",
    "# красный - пропущенные данные\n",
    "colours = ['#eeeeee', '#ff0000']\n",
    "sns.heatmap(smartwatches[cols].isnull(), cmap=sns.color_palette(colours))"
   ]
  },
  {
   "cell_type": "markdown",
   "metadata": {},
   "source": [
    "2. Проверяем на наличие нулевых значений"
   ]
  },
  {
   "cell_type": "code",
   "execution_count": 148,
   "metadata": {},
   "outputs": [
    {
     "data": {
      "text/plain": [
       "Unnamed: 0             False\n",
       "Brand                  False\n",
       "Current Price           True\n",
       "Original Price          True\n",
       "Discount Percentage     True\n",
       "Rating                  True\n",
       "Number OF Ratings       True\n",
       "Model Name              True\n",
       "Dial Shape              True\n",
       "Strap Color             True\n",
       "Strap Material          True\n",
       "Touchscreen             True\n",
       "Battery Life (Days)     True\n",
       "Bluetooth               True\n",
       "Display Size            True\n",
       "Weight                  True\n",
       "dtype: bool"
      ]
     },
     "execution_count": 148,
     "metadata": {},
     "output_type": "execute_result"
    }
   ],
   "source": [
    "smartwatches.isnull().any() "
   ]
  },
  {
   "cell_type": "markdown",
   "metadata": {},
   "source": [
    "3. Подсчитаем количество нулевых значений по столбцам"
   ]
  },
  {
   "cell_type": "code",
   "execution_count": 149,
   "metadata": {},
   "outputs": [
    {
     "name": "stdout",
     "output_type": "stream",
     "text": [
      "Unnamed: 0 - 0\n",
      "Brand - 0\n",
      "Current Price - 10\n",
      "Original Price - 73\n",
      "Discount Percentage - 73\n",
      "Rating - 6\n",
      "Number OF Ratings - 59\n",
      "Model Name - 35\n",
      "Dial Shape - 123\n",
      "Strap Color - 123\n",
      "Strap Material - 69\n",
      "Touchscreen - 37\n",
      "Battery Life (Days) - 32\n",
      "Bluetooth - 6\n",
      "Display Size - 30\n",
      "Weight - 186\n"
     ]
    }
   ],
   "source": [
    "for col in smartwatches.columns:\n",
    "    pct_missing = smartwatches[col].isnull().sum()\n",
    "    print('{} - {}'.format(col, round(pct_missing)))"
   ]
  },
  {
   "cell_type": "markdown",
   "metadata": {},
   "source": []
  },
  {
   "cell_type": "code",
   "execution_count": 150,
   "metadata": {},
   "outputs": [],
   "source": [
    "smartwatches.drop(['Original Price', 'Discount Percentage', \"Number OF Ratings\", 'Rating'], axis=1, inplace=True)"
   ]
  },
  {
   "cell_type": "code",
   "execution_count": 151,
   "metadata": {},
   "outputs": [
    {
     "data": {
      "text/html": [
       "<div>\n",
       "<style scoped>\n",
       "    .dataframe tbody tr th:only-of-type {\n",
       "        vertical-align: middle;\n",
       "    }\n",
       "\n",
       "    .dataframe tbody tr th {\n",
       "        vertical-align: top;\n",
       "    }\n",
       "\n",
       "    .dataframe thead th {\n",
       "        text-align: right;\n",
       "    }\n",
       "</style>\n",
       "<table border=\"1\" class=\"dataframe\">\n",
       "  <thead>\n",
       "    <tr style=\"text-align: right;\">\n",
       "      <th></th>\n",
       "      <th>Unnamed: 0</th>\n",
       "      <th>Brand</th>\n",
       "      <th>Current Price</th>\n",
       "      <th>Model Name</th>\n",
       "      <th>Dial Shape</th>\n",
       "      <th>Strap Color</th>\n",
       "      <th>Strap Material</th>\n",
       "      <th>Touchscreen</th>\n",
       "      <th>Battery Life (Days)</th>\n",
       "      <th>Bluetooth</th>\n",
       "      <th>Display Size</th>\n",
       "      <th>Weight</th>\n",
       "    </tr>\n",
       "  </thead>\n",
       "  <tbody>\n",
       "    <tr>\n",
       "      <th>0</th>\n",
       "      <td>0</td>\n",
       "      <td>noise</td>\n",
       "      <td>82990.0</td>\n",
       "      <td>Wrb-sw-colorfitpro4alpha-std-rgld_pnk</td>\n",
       "      <td>NaN</td>\n",
       "      <td>NaN</td>\n",
       "      <td>NaN</td>\n",
       "      <td>NaN</td>\n",
       "      <td>8.0</td>\n",
       "      <td>Yes</td>\n",
       "      <td>NaN</td>\n",
       "      <td>35 - 50 g</td>\n",
       "    </tr>\n",
       "    <tr>\n",
       "      <th>1</th>\n",
       "      <td>1</td>\n",
       "      <td>fire-boltt</td>\n",
       "      <td>3799.0</td>\n",
       "      <td>BSW046</td>\n",
       "      <td>NaN</td>\n",
       "      <td>NaN</td>\n",
       "      <td>Silicon</td>\n",
       "      <td>Yes</td>\n",
       "      <td>3.5</td>\n",
       "      <td>Yes</td>\n",
       "      <td>1.8 inches</td>\n",
       "      <td>50 - 75 g</td>\n",
       "    </tr>\n",
       "    <tr>\n",
       "      <th>2</th>\n",
       "      <td>2</td>\n",
       "      <td>boat</td>\n",
       "      <td>1999.0</td>\n",
       "      <td>Wave Call</td>\n",
       "      <td>NaN</td>\n",
       "      <td>NaN</td>\n",
       "      <td>Silicon</td>\n",
       "      <td>Yes</td>\n",
       "      <td>8.0</td>\n",
       "      <td>Yes</td>\n",
       "      <td>1.7 inches</td>\n",
       "      <td>35 - 50 g</td>\n",
       "    </tr>\n",
       "    <tr>\n",
       "      <th>3</th>\n",
       "      <td>3</td>\n",
       "      <td>fire-boltt</td>\n",
       "      <td>1799.0</td>\n",
       "      <td>BSW053</td>\n",
       "      <td>NaN</td>\n",
       "      <td>NaN</td>\n",
       "      <td>Silicon</td>\n",
       "      <td>Yes</td>\n",
       "      <td>3.5</td>\n",
       "      <td>Yes</td>\n",
       "      <td>1.8 inches</td>\n",
       "      <td>75g +</td>\n",
       "    </tr>\n",
       "    <tr>\n",
       "      <th>4</th>\n",
       "      <td>4</td>\n",
       "      <td>noise</td>\n",
       "      <td>1599.0</td>\n",
       "      <td>Wrb-sw-colorfitpulsegobuzz-std-blk_blk</td>\n",
       "      <td>NaN</td>\n",
       "      <td>NaN</td>\n",
       "      <td>Other</td>\n",
       "      <td>Yes</td>\n",
       "      <td>8.0</td>\n",
       "      <td>Yes</td>\n",
       "      <td>1.7 inches</td>\n",
       "      <td>35 - 50 g</td>\n",
       "    </tr>\n",
       "    <tr>\n",
       "      <th>...</th>\n",
       "      <td>...</td>\n",
       "      <td>...</td>\n",
       "      <td>...</td>\n",
       "      <td>...</td>\n",
       "      <td>...</td>\n",
       "      <td>...</td>\n",
       "      <td>...</td>\n",
       "      <td>...</td>\n",
       "      <td>...</td>\n",
       "      <td>...</td>\n",
       "      <td>...</td>\n",
       "      <td>...</td>\n",
       "    </tr>\n",
       "    <tr>\n",
       "      <th>445</th>\n",
       "      <td>445</td>\n",
       "      <td>fire-boltt</td>\n",
       "      <td>5999.0</td>\n",
       "      <td>bsw003</td>\n",
       "      <td>Circle</td>\n",
       "      <td>Grey</td>\n",
       "      <td>Silicon</td>\n",
       "      <td>Yes</td>\n",
       "      <td>22.0</td>\n",
       "      <td>Yes</td>\n",
       "      <td>1.3 inches</td>\n",
       "      <td>NaN</td>\n",
       "    </tr>\n",
       "    <tr>\n",
       "      <th>446</th>\n",
       "      <td>446</td>\n",
       "      <td>fire-boltt</td>\n",
       "      <td>3700.0</td>\n",
       "      <td>beast pro</td>\n",
       "      <td>Square</td>\n",
       "      <td>Black</td>\n",
       "      <td>Silicon</td>\n",
       "      <td>Yes</td>\n",
       "      <td>8.0</td>\n",
       "      <td>Yes</td>\n",
       "      <td>0.1 inches</td>\n",
       "      <td>NaN</td>\n",
       "    </tr>\n",
       "    <tr>\n",
       "      <th>447</th>\n",
       "      <td>447</td>\n",
       "      <td>fire-boltt</td>\n",
       "      <td>5999.0</td>\n",
       "      <td>bsw003</td>\n",
       "      <td>Circle</td>\n",
       "      <td>Gold</td>\n",
       "      <td>Silicon</td>\n",
       "      <td>Yes</td>\n",
       "      <td>22.0</td>\n",
       "      <td>Yes</td>\n",
       "      <td>1.3 inches</td>\n",
       "      <td>NaN</td>\n",
       "    </tr>\n",
       "    <tr>\n",
       "      <th>448</th>\n",
       "      <td>448</td>\n",
       "      <td>fire-boltt</td>\n",
       "      <td>3200.0</td>\n",
       "      <td>call 2</td>\n",
       "      <td>Square</td>\n",
       "      <td>Blue</td>\n",
       "      <td>Silicon</td>\n",
       "      <td>Yes</td>\n",
       "      <td>22.0</td>\n",
       "      <td>Yes</td>\n",
       "      <td>0.1 inches</td>\n",
       "      <td>NaN</td>\n",
       "    </tr>\n",
       "    <tr>\n",
       "      <th>449</th>\n",
       "      <td>449</td>\n",
       "      <td>fire-boltt</td>\n",
       "      <td>3000.0</td>\n",
       "      <td>call 2</td>\n",
       "      <td>Square</td>\n",
       "      <td>Black</td>\n",
       "      <td>Silicon</td>\n",
       "      <td>Yes</td>\n",
       "      <td>22.0</td>\n",
       "      <td>Yes</td>\n",
       "      <td>0.1 inches</td>\n",
       "      <td>NaN</td>\n",
       "    </tr>\n",
       "  </tbody>\n",
       "</table>\n",
       "<p>450 rows × 12 columns</p>\n",
       "</div>"
      ],
      "text/plain": [
       "     Unnamed: 0       Brand  Current Price  \\\n",
       "0             0       noise        82990.0   \n",
       "1             1  fire-boltt         3799.0   \n",
       "2             2        boat         1999.0   \n",
       "3             3  fire-boltt         1799.0   \n",
       "4             4       noise         1599.0   \n",
       "..          ...         ...            ...   \n",
       "445         445  fire-boltt         5999.0   \n",
       "446         446  fire-boltt         3700.0   \n",
       "447         447  fire-boltt         5999.0   \n",
       "448         448  fire-boltt         3200.0   \n",
       "449         449  fire-boltt         3000.0   \n",
       "\n",
       "                                 Model Name Dial Shape Strap Color  \\\n",
       "0     Wrb-sw-colorfitpro4alpha-std-rgld_pnk        NaN         NaN   \n",
       "1                                    BSW046        NaN         NaN   \n",
       "2                                 Wave Call        NaN         NaN   \n",
       "3                                    BSW053        NaN         NaN   \n",
       "4    Wrb-sw-colorfitpulsegobuzz-std-blk_blk        NaN         NaN   \n",
       "..                                      ...        ...         ...   \n",
       "445                                  bsw003     Circle        Grey   \n",
       "446                               beast pro     Square       Black   \n",
       "447                                  bsw003     Circle        Gold   \n",
       "448                                  call 2     Square        Blue   \n",
       "449                                  call 2     Square       Black   \n",
       "\n",
       "    Strap Material Touchscreen  Battery Life (Days) Bluetooth Display Size  \\\n",
       "0              NaN         NaN                  8.0       Yes          NaN   \n",
       "1          Silicon         Yes                  3.5       Yes   1.8 inches   \n",
       "2          Silicon         Yes                  8.0       Yes   1.7 inches   \n",
       "3          Silicon         Yes                  3.5       Yes   1.8 inches   \n",
       "4            Other         Yes                  8.0       Yes   1.7 inches   \n",
       "..             ...         ...                  ...       ...          ...   \n",
       "445        Silicon         Yes                 22.0       Yes   1.3 inches   \n",
       "446        Silicon         Yes                  8.0       Yes   0.1 inches   \n",
       "447        Silicon         Yes                 22.0       Yes   1.3 inches   \n",
       "448        Silicon         Yes                 22.0       Yes   0.1 inches   \n",
       "449        Silicon         Yes                 22.0       Yes   0.1 inches   \n",
       "\n",
       "        Weight  \n",
       "0    35 - 50 g  \n",
       "1    50 - 75 g  \n",
       "2    35 - 50 g  \n",
       "3        75g +  \n",
       "4    35 - 50 g  \n",
       "..         ...  \n",
       "445        NaN  \n",
       "446        NaN  \n",
       "447        NaN  \n",
       "448        NaN  \n",
       "449        NaN  \n",
       "\n",
       "[450 rows x 12 columns]"
      ]
     },
     "execution_count": 151,
     "metadata": {},
     "output_type": "execute_result"
    }
   ],
   "source": [
    "smartwatches"
   ]
  },
  {
   "cell_type": "code",
   "execution_count": 152,
   "metadata": {},
   "outputs": [],
   "source": [
    "smartwatches = smartwatches.dropna(subset=['Dial Shape'])"
   ]
  },
  {
   "cell_type": "code",
   "execution_count": 153,
   "metadata": {},
   "outputs": [
    {
     "data": {
      "text/html": [
       "<div>\n",
       "<style scoped>\n",
       "    .dataframe tbody tr th:only-of-type {\n",
       "        vertical-align: middle;\n",
       "    }\n",
       "\n",
       "    .dataframe tbody tr th {\n",
       "        vertical-align: top;\n",
       "    }\n",
       "\n",
       "    .dataframe thead th {\n",
       "        text-align: right;\n",
       "    }\n",
       "</style>\n",
       "<table border=\"1\" class=\"dataframe\">\n",
       "  <thead>\n",
       "    <tr style=\"text-align: right;\">\n",
       "      <th></th>\n",
       "      <th>Unnamed: 0</th>\n",
       "      <th>Brand</th>\n",
       "      <th>Current Price</th>\n",
       "      <th>Model Name</th>\n",
       "      <th>Dial Shape</th>\n",
       "      <th>Strap Color</th>\n",
       "      <th>Strap Material</th>\n",
       "      <th>Touchscreen</th>\n",
       "      <th>Battery Life (Days)</th>\n",
       "      <th>Bluetooth</th>\n",
       "      <th>Display Size</th>\n",
       "      <th>Weight</th>\n",
       "    </tr>\n",
       "  </thead>\n",
       "  <tbody>\n",
       "    <tr>\n",
       "      <th>122</th>\n",
       "      <td>122</td>\n",
       "      <td>apple</td>\n",
       "      <td>29650.0</td>\n",
       "      <td>Watch SE GPS (2nd Gen)</td>\n",
       "      <td>Rectangle</td>\n",
       "      <td>Midnight</td>\n",
       "      <td>Silicon</td>\n",
       "      <td>Yes</td>\n",
       "      <td>22.0</td>\n",
       "      <td>Yes</td>\n",
       "      <td>1.6 inches</td>\n",
       "      <td>&lt;= 20 g</td>\n",
       "    </tr>\n",
       "    <tr>\n",
       "      <th>123</th>\n",
       "      <td>123</td>\n",
       "      <td>apple</td>\n",
       "      <td>37900.0</td>\n",
       "      <td>Watch SE GPS + Cellular (2nd Gen)</td>\n",
       "      <td>Rectangle</td>\n",
       "      <td>Starlight Sport</td>\n",
       "      <td>Silicon</td>\n",
       "      <td>Yes</td>\n",
       "      <td>22.0</td>\n",
       "      <td>Yes</td>\n",
       "      <td>1.7 inches</td>\n",
       "      <td>&lt;= 20 g</td>\n",
       "    </tr>\n",
       "    <tr>\n",
       "      <th>124</th>\n",
       "      <td>124</td>\n",
       "      <td>apple</td>\n",
       "      <td>23349.0</td>\n",
       "      <td>Watch Series 3 (GPS, 42mm) - Space Grey Alumin...</td>\n",
       "      <td>Rectangle</td>\n",
       "      <td>Black</td>\n",
       "      <td>Silicon</td>\n",
       "      <td>Yes</td>\n",
       "      <td>22.0</td>\n",
       "      <td>Yes</td>\n",
       "      <td>1.7 inches</td>\n",
       "      <td>NaN</td>\n",
       "    </tr>\n",
       "    <tr>\n",
       "      <th>125</th>\n",
       "      <td>125</td>\n",
       "      <td>apple</td>\n",
       "      <td>33900.0</td>\n",
       "      <td>Watch SE GPS + Cellular</td>\n",
       "      <td>Rectangle</td>\n",
       "      <td>Pink</td>\n",
       "      <td>Silicon</td>\n",
       "      <td>Yes</td>\n",
       "      <td>22.0</td>\n",
       "      <td>Yes</td>\n",
       "      <td>1.6 inches</td>\n",
       "      <td>&lt;= 20 g</td>\n",
       "    </tr>\n",
       "    <tr>\n",
       "      <th>126</th>\n",
       "      <td>126</td>\n",
       "      <td>apple</td>\n",
       "      <td>89900.0</td>\n",
       "      <td>Watch Ultra GPS + Cellular</td>\n",
       "      <td>Rectangle</td>\n",
       "      <td>Orange Alpine</td>\n",
       "      <td>Fabric</td>\n",
       "      <td>Yes</td>\n",
       "      <td>3.5</td>\n",
       "      <td>Yes</td>\n",
       "      <td>1.9 inches</td>\n",
       "      <td>75g +</td>\n",
       "    </tr>\n",
       "    <tr>\n",
       "      <th>...</th>\n",
       "      <td>...</td>\n",
       "      <td>...</td>\n",
       "      <td>...</td>\n",
       "      <td>...</td>\n",
       "      <td>...</td>\n",
       "      <td>...</td>\n",
       "      <td>...</td>\n",
       "      <td>...</td>\n",
       "      <td>...</td>\n",
       "      <td>...</td>\n",
       "      <td>...</td>\n",
       "      <td>...</td>\n",
       "    </tr>\n",
       "    <tr>\n",
       "      <th>445</th>\n",
       "      <td>445</td>\n",
       "      <td>fire-boltt</td>\n",
       "      <td>5999.0</td>\n",
       "      <td>bsw003</td>\n",
       "      <td>Circle</td>\n",
       "      <td>Grey</td>\n",
       "      <td>Silicon</td>\n",
       "      <td>Yes</td>\n",
       "      <td>22.0</td>\n",
       "      <td>Yes</td>\n",
       "      <td>1.3 inches</td>\n",
       "      <td>NaN</td>\n",
       "    </tr>\n",
       "    <tr>\n",
       "      <th>446</th>\n",
       "      <td>446</td>\n",
       "      <td>fire-boltt</td>\n",
       "      <td>3700.0</td>\n",
       "      <td>beast pro</td>\n",
       "      <td>Square</td>\n",
       "      <td>Black</td>\n",
       "      <td>Silicon</td>\n",
       "      <td>Yes</td>\n",
       "      <td>8.0</td>\n",
       "      <td>Yes</td>\n",
       "      <td>0.1 inches</td>\n",
       "      <td>NaN</td>\n",
       "    </tr>\n",
       "    <tr>\n",
       "      <th>447</th>\n",
       "      <td>447</td>\n",
       "      <td>fire-boltt</td>\n",
       "      <td>5999.0</td>\n",
       "      <td>bsw003</td>\n",
       "      <td>Circle</td>\n",
       "      <td>Gold</td>\n",
       "      <td>Silicon</td>\n",
       "      <td>Yes</td>\n",
       "      <td>22.0</td>\n",
       "      <td>Yes</td>\n",
       "      <td>1.3 inches</td>\n",
       "      <td>NaN</td>\n",
       "    </tr>\n",
       "    <tr>\n",
       "      <th>448</th>\n",
       "      <td>448</td>\n",
       "      <td>fire-boltt</td>\n",
       "      <td>3200.0</td>\n",
       "      <td>call 2</td>\n",
       "      <td>Square</td>\n",
       "      <td>Blue</td>\n",
       "      <td>Silicon</td>\n",
       "      <td>Yes</td>\n",
       "      <td>22.0</td>\n",
       "      <td>Yes</td>\n",
       "      <td>0.1 inches</td>\n",
       "      <td>NaN</td>\n",
       "    </tr>\n",
       "    <tr>\n",
       "      <th>449</th>\n",
       "      <td>449</td>\n",
       "      <td>fire-boltt</td>\n",
       "      <td>3000.0</td>\n",
       "      <td>call 2</td>\n",
       "      <td>Square</td>\n",
       "      <td>Black</td>\n",
       "      <td>Silicon</td>\n",
       "      <td>Yes</td>\n",
       "      <td>22.0</td>\n",
       "      <td>Yes</td>\n",
       "      <td>0.1 inches</td>\n",
       "      <td>NaN</td>\n",
       "    </tr>\n",
       "  </tbody>\n",
       "</table>\n",
       "<p>327 rows × 12 columns</p>\n",
       "</div>"
      ],
      "text/plain": [
       "     Unnamed: 0       Brand  Current Price  \\\n",
       "122         122       apple        29650.0   \n",
       "123         123       apple        37900.0   \n",
       "124         124       apple        23349.0   \n",
       "125         125       apple        33900.0   \n",
       "126         126       apple        89900.0   \n",
       "..          ...         ...            ...   \n",
       "445         445  fire-boltt         5999.0   \n",
       "446         446  fire-boltt         3700.0   \n",
       "447         447  fire-boltt         5999.0   \n",
       "448         448  fire-boltt         3200.0   \n",
       "449         449  fire-boltt         3000.0   \n",
       "\n",
       "                                            Model Name Dial Shape  \\\n",
       "122                             Watch SE GPS (2nd Gen)  Rectangle   \n",
       "123                  Watch SE GPS + Cellular (2nd Gen)  Rectangle   \n",
       "124  Watch Series 3 (GPS, 42mm) - Space Grey Alumin...  Rectangle   \n",
       "125                            Watch SE GPS + Cellular  Rectangle   \n",
       "126                         Watch Ultra GPS + Cellular  Rectangle   \n",
       "..                                                 ...        ...   \n",
       "445                                             bsw003     Circle   \n",
       "446                                          beast pro     Square   \n",
       "447                                             bsw003     Circle   \n",
       "448                                             call 2     Square   \n",
       "449                                             call 2     Square   \n",
       "\n",
       "         Strap Color Strap Material Touchscreen  Battery Life (Days)  \\\n",
       "122         Midnight        Silicon         Yes                 22.0   \n",
       "123  Starlight Sport        Silicon         Yes                 22.0   \n",
       "124            Black        Silicon         Yes                 22.0   \n",
       "125             Pink        Silicon         Yes                 22.0   \n",
       "126    Orange Alpine         Fabric         Yes                  3.5   \n",
       "..               ...            ...         ...                  ...   \n",
       "445             Grey        Silicon         Yes                 22.0   \n",
       "446            Black        Silicon         Yes                  8.0   \n",
       "447             Gold        Silicon         Yes                 22.0   \n",
       "448             Blue        Silicon         Yes                 22.0   \n",
       "449            Black        Silicon         Yes                 22.0   \n",
       "\n",
       "    Bluetooth Display Size   Weight  \n",
       "122       Yes   1.6 inches  <= 20 g  \n",
       "123       Yes   1.7 inches  <= 20 g  \n",
       "124       Yes   1.7 inches      NaN  \n",
       "125       Yes   1.6 inches  <= 20 g  \n",
       "126       Yes   1.9 inches    75g +  \n",
       "..        ...          ...      ...  \n",
       "445       Yes   1.3 inches      NaN  \n",
       "446       Yes   0.1 inches      NaN  \n",
       "447       Yes   1.3 inches      NaN  \n",
       "448       Yes   0.1 inches      NaN  \n",
       "449       Yes   0.1 inches      NaN  \n",
       "\n",
       "[327 rows x 12 columns]"
      ]
     },
     "execution_count": 153,
     "metadata": {},
     "output_type": "execute_result"
    }
   ],
   "source": [
    "smartwatches"
   ]
  },
  {
   "cell_type": "code",
   "execution_count": 154,
   "metadata": {},
   "outputs": [
    {
     "data": {
      "text/plain": [
       "<AxesSubplot:>"
      ]
     },
     "execution_count": 154,
     "metadata": {},
     "output_type": "execute_result"
    },
    {
     "data": {
      "image/png": "[encoded data removed]",
      "text/plain": [
       "<Figure size 640x480 with 2 Axes>"
      ]
     },
     "metadata": {},
     "output_type": "display_data"
    }
   ],
   "source": [
    "cols = smartwatches.columns[:] \n",
    "colours = ['#eeeeee', '#ff0000']\n",
    "sns.heatmap(smartwatches[cols].isnull(), cmap=sns.color_palette(colours))"
   ]
  },
  {
   "cell_type": "code",
   "execution_count": 155,
   "metadata": {},
   "outputs": [],
   "source": [
    "smartwatches = smartwatches.dropna(subset=['Display Size', 'Battery Life (Days)', 'Current Price'])\n"
   ]
  },
  {
   "cell_type": "code",
   "execution_count": 156,
   "metadata": {},
   "outputs": [
    {
     "name": "stdout",
     "output_type": "stream",
     "text": [
      "<class 'pandas.core.frame.DataFrame'>\n",
      "Int64Index: 321 entries, 122 to 449\n",
      "Data columns (total 12 columns):\n",
      " #   Column               Non-Null Count  Dtype  \n",
      "---  ------               --------------  -----  \n",
      " 0   Unnamed: 0           321 non-null    int64  \n",
      " 1   Brand                321 non-null    object \n",
      " 2   Current Price        321 non-null    float64\n",
      " 3   Model Name           321 non-null    object \n",
      " 4   Dial Shape           321 non-null    object \n",
      " 5   Strap Color          321 non-null    object \n",
      " 6   Strap Material       321 non-null    object \n",
      " 7   Touchscreen          321 non-null    object \n",
      " 8   Battery Life (Days)  321 non-null    float64\n",
      " 9   Bluetooth            321 non-null    object \n",
      " 10  Display Size         321 non-null    object \n",
      " 11  Weight               141 non-null    object \n",
      "dtypes: float64(2), int64(1), object(9)\n",
      "memory usage: 193.7 KB\n"
     ]
    }
   ],
   "source": [
    "smartwatches.info(memory_usage='deep')"
   ]
  },
  {
   "cell_type": "code",
   "execution_count": 157,
   "metadata": {},
   "outputs": [],
   "source": [
    "# smartwatches.loc['Display Size'] = smartwatches['Display Size'].astype(str)\n",
    "# smartwatches.loc['Weight'] = smartwatches['Weight'].astype(str)\n"
   ]
  },
  {
   "cell_type": "code",
   "execution_count": 158,
   "metadata": {},
   "outputs": [
    {
     "name": "stderr",
     "output_type": "stream",
     "text": [
      "C:\\Users\\Chamster\\AppData\\Local\\Temp\\ipykernel_23080\\290482760.py:1: SettingWithCopyWarning: \n",
      "A value is trying to be set on a copy of a slice from a DataFrame.\n",
      "Try using .loc[row_indexer,col_indexer] = value instead\n",
      "\n",
      "See the caveats in the documentation: https://pandas.pydata.org/pandas-docs/stable/user_guide/indexing.html#returning-a-view-versus-a-copy\n",
      "  smartwatches.loc[:, 'Display Size'] = smartwatches['Display Size'].astype(str).str.replace(' inches', '').astype(float)\n",
      "C:\\Users\\Chamster\\AppData\\Local\\Temp\\ipykernel_23080\\290482760.py:10: FutureWarning: The default value of regex will change from True to False in a future version. In addition, single character regular expressions will *not* be treated as literal strings when regex=True.\n",
      "  smartwatches.loc[:, 'Weight'] = smartwatches['Weight'].astype(str).str.replace('g', '').str.replace('<= ', '').str.replace('+', '').apply(handle_weight_range)\n",
      "C:\\Users\\Chamster\\AppData\\Local\\Temp\\ipykernel_23080\\290482760.py:10: SettingWithCopyWarning: \n",
      "A value is trying to be set on a copy of a slice from a DataFrame.\n",
      "Try using .loc[row_indexer,col_indexer] = value instead\n",
      "\n",
      "See the caveats in the documentation: https://pandas.pydata.org/pandas-docs/stable/user_guide/indexing.html#returning-a-view-versus-a-copy\n",
      "  smartwatches.loc[:, 'Weight'] = smartwatches['Weight'].astype(str).str.replace('g', '').str.replace('<= ', '').str.replace('+', '').apply(handle_weight_range)\n"
     ]
    }
   ],
   "source": [
    "smartwatches.loc[:, 'Display Size'] = smartwatches['Display Size'].astype(str).str.replace(' inches', '').astype(float)\n",
    "\n",
    "def handle_weight_range(weight):\n",
    "    if '-' in weight:\n",
    "        weights = weight.split('-')\n",
    "        return (float(weights[0]) + float(weights[1])) / 2\n",
    "    else:\n",
    "        return float(weight)\n",
    "\n",
    "smartwatches.loc[:, 'Weight'] = smartwatches['Weight'].astype(str).str.replace('g', '').str.replace('<= ', '').str.replace('+', '').apply(handle_weight_range)\n"
   ]
  },
  {
   "cell_type": "code",
   "execution_count": 159,
   "metadata": {},
   "outputs": [
    {
     "name": "stderr",
     "output_type": "stream",
     "text": [
      "C:\\Users\\Chamster\\AppData\\Local\\Temp\\ipykernel_23080\\1172629742.py:3: SettingWithCopyWarning: \n",
      "A value is trying to be set on a copy of a slice from a DataFrame.\n",
      "Try using .loc[row_indexer,col_indexer] = value instead\n",
      "\n",
      "See the caveats in the documentation: https://pandas.pydata.org/pandas-docs/stable/user_guide/indexing.html#returning-a-view-versus-a-copy\n",
      "  smartwatches['Weight'] = smartwatches.apply(\n"
     ]
    }
   ],
   "source": [
    "average_weights = smartwatches.groupby('Display Size')['Weight'].mean()\n",
    "\n",
    "smartwatches['Weight'] = smartwatches.apply(\n",
    "    lambda row: average_weights[row['Display Size']] if pd.isnull(row['Weight']) and pd.notnull(row['Display Size']) else row['Weight'],\n",
    "    axis=1\n",
    ")\n"
   ]
  },
  {
   "cell_type": "code",
   "execution_count": 160,
   "metadata": {},
   "outputs": [
    {
     "data": {
      "text/plain": [
       "Unnamed: 0               int64\n",
       "Brand                   object\n",
       "Current Price          float64\n",
       "Model Name              object\n",
       "Dial Shape              object\n",
       "Strap Color             object\n",
       "Strap Material          object\n",
       "Touchscreen             object\n",
       "Battery Life (Days)    float64\n",
       "Bluetooth               object\n",
       "Display Size           float64\n",
       "Weight                 float64\n",
       "dtype: object"
      ]
     },
     "execution_count": 160,
     "metadata": {},
     "output_type": "execute_result"
    }
   ],
   "source": [
    "smartwatches.dtypes"
   ]
  },
  {
   "cell_type": "code",
   "execution_count": 161,
   "metadata": {},
   "outputs": [
    {
     "data": {
      "text/plain": [
       "<AxesSubplot:>"
      ]
     },
     "execution_count": 161,
     "metadata": {},
     "output_type": "execute_result"
    },
    {
     "data": {
      "image/png": "[encoded data removed]",
      "text/plain": [
       "<Figure size 640x480 with 2 Axes>"
      ]
     },
     "metadata": {},
     "output_type": "display_data"
    }
   ],
   "source": [
    "cols = smartwatches.columns[:] \n",
    "colours = ['#eeeeee', '#ff0000']\n",
    "sns.heatmap(smartwatches[cols].isnull(), cmap=sns.color_palette(colours))"
   ]
  },
  {
   "cell_type": "code",
   "execution_count": 162,
   "metadata": {},
   "outputs": [
    {
     "name": "stdout",
     "output_type": "stream",
     "text": [
      "     Unnamed: 0      Brand  Current Price                                                                        Model Name Dial Shape   Strap Color Strap Material Touchscreen  Battery Life (Days) Bluetooth  Display Size  Weight\n",
      "221         221     fitbit         8999.0                                                                         Inspire 3  Rectangle  Morning Glow        Silicon         Yes                 22.0       Yes           0.6     NaN\n",
      "223         223     fitbit        17699.0                                                                           Versa 3     Curved         Black         Rubber         Yes                 17.5       Yes          15.9     NaN\n",
      "250         250    amazfit         7200.0                                                                          Bip Lite     Square         Black        Silicon         Yes                  3.5       Yes           3.0     NaN\n",
      "257         257     garmin        39490.0        Venu 2, GPS Smartwatch, AMOLED Display, Upto 11 Days Battery, SPO2 & Music     Circle          Blue        Silicon         Yes                 17.5       Yes          33.0     NaN\n",
      "263         263     garmin        44990.0         Instinct 2 Solar, Rugged Outdoor SmartWatch, Multi GNSS, Tracback Routing     Circle          Blue        Silicon          No                 17.5       Yes           0.9     NaN\n",
      "264         264     garmin        22990.0       Instinct Esports Edition, Broadcast stress level & HR to PC gaming streams*     Circle         Black        Silicon          No                  8.0       Yes           0.9     NaN\n",
      "265         265     garmin        33490.0   Instinct 2, Battery Upto 28 days, Tracback Routing, Multi GNSS, Health Snapshot     Circle         Black        Silicon          No                 17.5       Yes           0.9     NaN\n",
      "266         266     garmin        39490.0       Venu 2S, GPS Smartwatch, AMOLED Display, Upto 11 Days Battery, SPO2 & Music     Circle         White        Silicon         Yes                 22.0       Yes          27.9     NaN\n",
      "268         268     garmin        20490.0                                                                   Vivomove Sports     Circle         Brown        Silicon          No                  3.5       Yes          18.5     NaN\n",
      "271         271     garmin        44990.0   Instinct 2 Solar, Battery Up to 28 days/Unlimited with solar*, Tracback Routing     Circle         Black        Silicon          No                 17.5       Yes           0.9     NaN\n",
      "273         273     garmin        33490.0   Instinct 2S, Battery Upto 21 days, Health Snapshot, SPO2, HIIT workout, VO2 Max     Circle           Red        Silicon          No                 17.5        No           0.8     NaN\n",
      "276         276     garmin        44990.0   Instinct 2S Solar, Battery Upto 21 days/51 days with solar*, SPO2, HIIT workout     Circle         Green        Silicon          No                 17.5       Yes           0.8     NaN\n",
      "279         279     garmin        39490.0     Instinct 2, Rugged Outdoor Watch with GPS, Built for All Elements, Multi-GNSS     Circle          Grey        Silicon          No                 17.5       Yes           0.9     NaN\n",
      "280         280     garmin        50490.0        Instinct 2 Solar, Tactical Rugged SmartWatch, Multi GNSS, Tracback Routing     Circle         Brown        Silicon          No                 17.5       Yes           0.9     NaN\n",
      "306         306     fossil        18995.0                                                                         Wander RG     Circle         Black        Silicon         Yes                 22.0       Yes          45.0     NaN\n",
      "354         354    ambrane         1799.0  Wise Eon Max with 2.01'' Lucid display, BT Calling, with customisable watch face     Square         Black        Silicon         Yes                 22.0       Yes           2.0     NaN\n",
      "392         392  zebronics         2999.0                                                                     Zeb-Fit7220CH  Rectangle         Black        Silicon         Yes                  3.5       Yes           6.9     NaN\n",
      "406         406  zebronics         1897.0                                                                      Fitness band  Rectangle          Grey        Silicon         Yes                 22.0       Yes           2.3     NaN\n",
      "408         408  zebronics         3449.0                                                                        ZEB-FIT650     Circle         Black        Silicon         Yes                  3.5       Yes           2.4     NaN\n"
     ]
    }
   ],
   "source": [
    "empty_weight_rows = smartwatches[smartwatches['Weight'].isna()]\n",
    "print(empty_weight_rows.to_string())\n"
   ]
  },
  {
   "cell_type": "code",
   "execution_count": 163,
   "metadata": {},
   "outputs": [],
   "source": [
    "# smartwatches = smartwatches.drop(smartwatches[(smartwatches['Display Size'].notna()) & (smartwatches['Weight'].isna())].index)\n"
   ]
  },
  {
   "cell_type": "code",
   "execution_count": 164,
   "metadata": {},
   "outputs": [
    {
     "data": {
      "text/plain": [
       "<AxesSubplot:>"
      ]
     },
     "execution_count": 164,
     "metadata": {},
     "output_type": "execute_result"
    },
    {
     "data": {
      "image/png": "[encoded data removed]",
      "text/plain": [
       "<Figure size 640x480 with 2 Axes>"
      ]
     },
     "metadata": {},
     "output_type": "display_data"
    }
   ],
   "source": [
    "cols = smartwatches.columns[:] \n",
    "colours = ['#eeeeee', '#ff0000']\n",
    "sns.heatmap(smartwatches[cols].isnull(), cmap=sns.color_palette(colours))"
   ]
  },
  {
   "cell_type": "code",
   "execution_count": 165,
   "metadata": {},
   "outputs": [],
   "source": [
    "# smartwatches = smartwatches.dropna(subset=['Weight'])"
   ]
  },
  {
   "cell_type": "code",
   "execution_count": 166,
   "metadata": {},
   "outputs": [
    {
     "name": "stderr",
     "output_type": "stream",
     "text": [
      "C:\\Users\\Chamster\\AppData\\Local\\Temp\\ipykernel_23080\\992826152.py:6: SettingWithCopyWarning: \n",
      "A value is trying to be set on a copy of a slice from a DataFrame.\n",
      "Try using .loc[row_indexer,col_indexer] = value instead\n",
      "\n",
      "See the caveats in the documentation: https://pandas.pydata.org/pandas-docs/stable/user_guide/indexing.html#returning-a-view-versus-a-copy\n",
      "  smartwatches.loc[:, column] = le.fit_transform(smartwatches[column])\n",
      "C:\\Users\\Chamster\\AppData\\Local\\Temp\\ipykernel_23080\\992826152.py:6: SettingWithCopyWarning: \n",
      "A value is trying to be set on a copy of a slice from a DataFrame.\n",
      "Try using .loc[row_indexer,col_indexer] = value instead\n",
      "\n",
      "See the caveats in the documentation: https://pandas.pydata.org/pandas-docs/stable/user_guide/indexing.html#returning-a-view-versus-a-copy\n",
      "  smartwatches.loc[:, column] = le.fit_transform(smartwatches[column])\n",
      "C:\\Users\\Chamster\\AppData\\Local\\Temp\\ipykernel_23080\\992826152.py:6: SettingWithCopyWarning: \n",
      "A value is trying to be set on a copy of a slice from a DataFrame.\n",
      "Try using .loc[row_indexer,col_indexer] = value instead\n",
      "\n",
      "See the caveats in the documentation: https://pandas.pydata.org/pandas-docs/stable/user_guide/indexing.html#returning-a-view-versus-a-copy\n",
      "  smartwatches.loc[:, column] = le.fit_transform(smartwatches[column])\n",
      "C:\\Users\\Chamster\\AppData\\Local\\Temp\\ipykernel_23080\\992826152.py:6: SettingWithCopyWarning: \n",
      "A value is trying to be set on a copy of a slice from a DataFrame.\n",
      "Try using .loc[row_indexer,col_indexer] = value instead\n",
      "\n",
      "See the caveats in the documentation: https://pandas.pydata.org/pandas-docs/stable/user_guide/indexing.html#returning-a-view-versus-a-copy\n",
      "  smartwatches.loc[:, column] = le.fit_transform(smartwatches[column])\n",
      "C:\\Users\\Chamster\\AppData\\Local\\Temp\\ipykernel_23080\\992826152.py:6: SettingWithCopyWarning: \n",
      "A value is trying to be set on a copy of a slice from a DataFrame.\n",
      "Try using .loc[row_indexer,col_indexer] = value instead\n",
      "\n",
      "See the caveats in the documentation: https://pandas.pydata.org/pandas-docs/stable/user_guide/indexing.html#returning-a-view-versus-a-copy\n",
      "  smartwatches.loc[:, column] = le.fit_transform(smartwatches[column])\n",
      "C:\\Users\\Chamster\\AppData\\Local\\Temp\\ipykernel_23080\\992826152.py:6: SettingWithCopyWarning: \n",
      "A value is trying to be set on a copy of a slice from a DataFrame.\n",
      "Try using .loc[row_indexer,col_indexer] = value instead\n",
      "\n",
      "See the caveats in the documentation: https://pandas.pydata.org/pandas-docs/stable/user_guide/indexing.html#returning-a-view-versus-a-copy\n",
      "  smartwatches.loc[:, column] = le.fit_transform(smartwatches[column])\n",
      "C:\\Users\\Chamster\\AppData\\Local\\Temp\\ipykernel_23080\\992826152.py:6: SettingWithCopyWarning: \n",
      "A value is trying to be set on a copy of a slice from a DataFrame.\n",
      "Try using .loc[row_indexer,col_indexer] = value instead\n",
      "\n",
      "See the caveats in the documentation: https://pandas.pydata.org/pandas-docs/stable/user_guide/indexing.html#returning-a-view-versus-a-copy\n",
      "  smartwatches.loc[:, column] = le.fit_transform(smartwatches[column])\n"
     ]
    }
   ],
   "source": [
    "from sklearn.preprocessing import LabelEncoder\n",
    "\n",
    "le = LabelEncoder()\n",
    "\n",
    "for column in ['Brand', 'Model Name', 'Dial Shape', 'Strap Color', 'Strap Material', 'Touchscreen', 'Bluetooth']:\n",
    "    smartwatches.loc[:, column] = le.fit_transform(smartwatches[column])\n"
   ]
  },
  {
   "cell_type": "code",
   "execution_count": 169,
   "metadata": {},
   "outputs": [
    {
     "data": {
      "text/plain": [
       "Unnamed: 0               int64\n",
       "Brand                    int32\n",
       "Current Price          float64\n",
       "Model Name               int32\n",
       "Dial Shape               int32\n",
       "Strap Color              int32\n",
       "Strap Material           int32\n",
       "Touchscreen              int32\n",
       "Battery Life (Days)    float64\n",
       "Bluetooth                int32\n",
       "Display Size           float64\n",
       "Weight                 float64\n",
       "dtype: object"
      ]
     },
     "execution_count": 169,
     "metadata": {},
     "output_type": "execute_result"
    }
   ],
   "source": [
    "smartwatches.dtypes"
   ]
  },
  {
   "cell_type": "code",
   "execution_count": 168,
   "metadata": {},
   "outputs": [
    {
     "name": "stdout",
     "output_type": "stream",
     "text": [
      "<class 'pandas.core.frame.DataFrame'>\n",
      "Int64Index: 321 entries, 122 to 449\n",
      "Data columns (total 12 columns):\n",
      " #   Column               Non-Null Count  Dtype  \n",
      "---  ------               --------------  -----  \n",
      " 0   Unnamed: 0           321 non-null    int64  \n",
      " 1   Brand                321 non-null    int32  \n",
      " 2   Current Price        321 non-null    float64\n",
      " 3   Model Name           321 non-null    int32  \n",
      " 4   Dial Shape           321 non-null    int32  \n",
      " 5   Strap Color          321 non-null    int32  \n",
      " 6   Strap Material       321 non-null    int32  \n",
      " 7   Touchscreen          321 non-null    int32  \n",
      " 8   Battery Life (Days)  321 non-null    float64\n",
      " 9   Bluetooth            321 non-null    int32  \n",
      " 10  Display Size         321 non-null    float64\n",
      " 11  Weight               302 non-null    float64\n",
      "dtypes: float64(4), int32(7), int64(1)\n",
      "memory usage: 23.8 KB\n"
     ]
    }
   ],
   "source": [
    "smartwatches.info(memory_usage='deep')"
   ]
  }
 ],
 "metadata": {
  "kernelspec": {
   "display_name": "Python 3",
   "language": "python",
   "name": "python3"
  },
  "language_info": {
   "codemirror_mode": {
    "name": "ipython",
    "version": 3
   },
   "file_extension": ".py",
   "mimetype": "text/x-python",
   "name": "python",
   "nbconvert_exporter": "python",
   "pygments_lexer": "ipython3",
   "version": "3.10.0"
  }
 },
 "nbformat": 4,
 "nbformat_minor": 2
}
