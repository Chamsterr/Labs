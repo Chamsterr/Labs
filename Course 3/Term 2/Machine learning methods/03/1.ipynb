{
 "cells": [
  {
   "cell_type": "code",
   "execution_count": 14,
   "metadata": {},
   "outputs": [],
   "source": [
    "import pandas as pd\n",
    "from sklearn.model_selection import train_test_split\n",
    "from sklearn.tree import DecisionTreeClassifier\n",
    "from sklearn.neighbors import KNeighborsClassifier\n",
    "from sklearn.metrics import accuracy_score, confusion_matrix\n",
    "from sklearn.model_selection import GridSearchCV"
   ]
  },
  {
   "cell_type": "markdown",
   "metadata": {},
   "source": [
    "### 2. Проанализируйте исходные данные, при необходимости заполните пропуски или удалить не важную информацию. Категориальные признаки замените на числовые"
   ]
  },
  {
   "cell_type": "code",
   "execution_count": 15,
   "metadata": {},
   "outputs": [
    {
     "name": "stdout",
     "output_type": "stream",
     "text": [
      "Pregnancies                 0\n",
      "Glucose                     0\n",
      "BloodPressure               0\n",
      "SkinThickness               0\n",
      "Insulin                     0\n",
      "BMI                         0\n",
      "DiabetesPedigreeFunction    0\n",
      "Age                         0\n",
      "Outcome                     0\n",
      "dtype: int64\n",
      "   Pregnancies  Glucose  BloodPressure  SkinThickness  Insulin   BMI  \\\n",
      "0            6      148             72             35        0  33.6   \n",
      "1            1       85             66             29        0  26.6   \n",
      "2            8      183             64              0        0  23.3   \n",
      "3            1       89             66             23       94  28.1   \n",
      "4            0      137             40             35      168  43.1   \n",
      "\n",
      "   DiabetesPedigreeFunction  Age  Outcome  \n",
      "0                     0.627   50        1  \n",
      "1                     0.351   31        0  \n",
      "2                     0.672   32        1  \n",
      "3                     0.167   21        0  \n",
      "4                     2.288   33        1  \n"
     ]
    }
   ],
   "source": [
    "df = pd.read_csv('diabetes.csv')\n",
    "\n",
    "print(df.isnull().sum())\n",
    "\n",
    "print(df.head())\n"
   ]
  },
  {
   "cell_type": "markdown",
   "metadata": {},
   "source": [
    "### 3. Выделите матрицу признаков X и вектор меток Y"
   ]
  },
  {
   "cell_type": "code",
   "execution_count": 16,
   "metadata": {},
   "outputs": [],
   "source": [
    "X = df.drop('Outcome', axis=1)\n",
    "Y = df['Outcome']"
   ]
  },
  {
   "cell_type": "markdown",
   "metadata": {},
   "source": [
    "### 4. Разделите данные на обучающую и тестовую выборки"
   ]
  },
  {
   "cell_type": "code",
   "execution_count": 17,
   "metadata": {},
   "outputs": [],
   "source": [
    "X_train, X_test, Y_train, Y_test = train_test_split(X, Y, test_size=0.2, random_state=42)"
   ]
  },
  {
   "cell_type": "markdown",
   "metadata": {},
   "source": [
    "### 5. На обучающей выборке получите модели дерева решений и k-ближайших  соседей, рассчитайте точность моделей."
   ]
  },
  {
   "cell_type": "code",
   "execution_count": 18,
   "metadata": {},
   "outputs": [
    {
     "name": "stdout",
     "output_type": "stream",
     "text": [
      "Accuracy of decision tree: 0.7402597402597403\n",
      "Accuracy of k-NN: 0.6623376623376623\n"
     ]
    }
   ],
   "source": [
    "tree = DecisionTreeClassifier()\n",
    "knn = KNeighborsClassifier()\n",
    "\n",
    "tree.fit(X_train, Y_train)\n",
    "knn.fit(X_train, Y_train)\n",
    "\n",
    "tree_preds = tree.predict(X_test)\n",
    "knn_preds = knn.predict(X_test)\n",
    "\n",
    "tree_accuracy = accuracy_score(Y_test, tree_preds)\n",
    "knn_accuracy = accuracy_score(Y_test, knn_preds)\n",
    "\n",
    "print(f\"Accuracy of decision tree: {tree_accuracy}\")\n",
    "print(f\"Accuracy of k-NN: {knn_accuracy}\")"
   ]
  },
  {
   "cell_type": "markdown",
   "metadata": {},
   "source": [
    "### 6. Подберите наилучшие параметры моделей"
   ]
  },
  {
   "cell_type": "code",
   "execution_count": 19,
   "metadata": {},
   "outputs": [
    {
     "name": "stdout",
     "output_type": "stream",
     "text": [
      "Best parameters for decision tree: {'max_depth': 3}\n",
      "Best parameters for k-NN: {'n_neighbors': 8}\n"
     ]
    }
   ],
   "source": [
    "\n",
    "tree_params = {'max_depth': range(1, 10)}\n",
    "knn_params = {'n_neighbors': range(1, 10)}\n",
    "\n",
    "tree_search = GridSearchCV(tree, tree_params, cv=5)\n",
    "knn_search = GridSearchCV(knn, knn_params, cv=5)\n",
    "\n",
    "tree_search.fit(X_train, Y_train)\n",
    "knn_search.fit(X_train, Y_train)\n",
    "\n",
    "print(f\"Best parameters for decision tree: {tree_search.best_params_}\")\n",
    "print(f\"Best parameters for k-NN: {knn_search.best_params_}\")"
   ]
  },
  {
   "cell_type": "markdown",
   "metadata": {},
   "source": [
    "### 7. Рассчитайте матрицу ошибок для каждой модели"
   ]
  },
  {
   "cell_type": "code",
   "execution_count": 22,
   "metadata": {},
   "outputs": [
    {
     "name": "stdout",
     "output_type": "stream",
     "text": [
      "Confusion matrix for Decision Tree:\n",
      "-------------------------------\n",
      "True Positives: 77\n",
      "False Positives: 22\n",
      "False Negatives: 18\n",
      "True Negatives: 37\n",
      "\n",
      "\n",
      "Confusion matrix for k-NN:\n",
      "-------------------------------\n",
      "True Positives: 70\n",
      "False Positives: 29\n",
      "False Negatives: 23\n",
      "True Negatives: 32\n"
     ]
    }
   ],
   "source": [
    "tree_confusion = confusion_matrix(Y_test, tree_preds)\n",
    "knn_confusion = confusion_matrix(Y_test, knn_preds)\n",
    "\n",
    "print(\"Confusion matrix for Decision Tree:\")\n",
    "print(\"-------------------------------\")\n",
    "print(f\"True Positives: {tree_confusion[0][0]}\")\n",
    "print(f\"False Positives: {tree_confusion[0][1]}\")\n",
    "print(f\"False Negatives: {tree_confusion[1][0]}\")\n",
    "print(f\"True Negatives: {tree_confusion[1][1]}\")\n",
    "print(\"\\n\")\n",
    "\n",
    "print(\"Confusion matrix for k-NN:\")\n",
    "print(\"-------------------------------\")\n",
    "print(f\"True Positives: {knn_confusion[0][0]}\")\n",
    "print(f\"False Positives: {knn_confusion[0][1]}\")\n",
    "print(f\"False Negatives: {knn_confusion[1][0]}\")\n",
    "print(f\"True Negatives: {knn_confusion[1][1]}\")\n"
   ]
  },
  {
   "cell_type": "markdown",
   "metadata": {},
   "source": [
    "### 8. Выберите лучшую модель"
   ]
  },
  {
   "cell_type": "code",
   "execution_count": 21,
   "metadata": {},
   "outputs": [
    {
     "name": "stdout",
     "output_type": "stream",
     "text": [
      "Best model is: DecisionTreeClassifier()\n"
     ]
    }
   ],
   "source": [
    "best_model = tree if tree_accuracy > knn_accuracy else knn\n",
    "print(f\"Best model is: {best_model}\")"
   ]
  },
  {
   "cell_type": "code",
   "execution_count": 31,
   "metadata": {},
   "outputs": [
    {
     "name": "stdout",
     "output_type": "stream",
     "text": [
      "Accuracy of decision tree: 0.7597402597402597\n",
      "Accuracy of k-NN: 0.7467532467532467\n",
      "Best model is: DecisionTreeClassifier(max_depth=3)\n"
     ]
    }
   ],
   "source": [
    "tree_preds = tree_search.predict(X_test)\n",
    "knn_preds = knn_search.predict(X_test)\n",
    "\n",
    "tree_search_accuracy = accuracy_score(Y_test, tree_preds)\n",
    "knn_search_accuracy = accuracy_score(Y_test, knn_preds)\n",
    "\n",
    "print(f\"Accuracy of decision tree: {tree_search_accuracy}\")\n",
    "print(f\"Accuracy of k-NN: {knn_search_accuracy}\")\n",
    "best_model = tree_search if tree_search_accuracy > knn_search_accuracy else knn_search\n",
    "print(f\"Best model is: {best_model.best_estimator_}\")"
   ]
  }
 ],
 "metadata": {
  "kernelspec": {
   "display_name": "Python 3",
   "language": "python",
   "name": "python3"
  },
  "language_info": {
   "codemirror_mode": {
    "name": "ipython",
    "version": 3
   },
   "file_extension": ".py",
   "mimetype": "text/x-python",
   "name": "python",
   "nbconvert_exporter": "python",
   "pygments_lexer": "ipython3",
   "version": "3.10.0"
  }
 },
 "nbformat": 4,
 "nbformat_minor": 2
}
